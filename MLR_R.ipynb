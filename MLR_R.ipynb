{
 "cells": [
  {
   "cell_type": "code",
   "execution_count": 2,
   "metadata": {},
   "outputs": [
    {
     "name": "stderr",
     "output_type": "stream",
     "text": [
      "Warning message:\n",
      "\"package 'Metrics' was built under R version 4.0.3\"\n",
      "Warning message:\n",
      "\"package 'car' was built under R version 4.0.3\"\n",
      "Loading required package: carData\n",
      "\n"
     ]
    },
    {
     "data": {
      "text/plain": [
       "\n",
       "Call:\n",
       "lm(formula = ntv_rich ~ area + latitude + dist_mainland, data = df)\n",
       "\n",
       "Residuals:\n",
       "    Min      1Q  Median      3Q     Max \n",
       "-0.2248 -0.1240 -0.0198  0.1040  0.2363 \n",
       "\n",
       "Coefficients:\n",
       "               Estimate Std. Error t value Pr(>|t|)    \n",
       "(Intercept)    5.104524   0.981370   5.201 6.02e-05 ***\n",
       "area           0.349726   0.027263  12.828 1.71e-10 ***\n",
       "latitude      -0.086340   0.022862  -3.777  0.00138 ** \n",
       "dist_mainland -0.004700   0.002714  -1.732  0.10042    \n",
       "---\n",
       "Signif. codes:  0 '***' 0.001 '**' 0.01 '*' 0.05 '.' 0.1 ' ' 1\n",
       "\n",
       "Residual standard error: 0.1559 on 18 degrees of freedom\n",
       "Multiple R-squared:  0.9155,\tAdjusted R-squared:  0.9014 \n",
       "F-statistic: 64.98 on 3 and 18 DF,  p-value: 7.468e-10\n"
      ]
     },
     "metadata": {},
     "output_type": "display_data"
    }
   ],
   "source": [
    "library(Metrics)\n",
    "library(car)\n",
    "\n",
    "# load data\n",
    "df <- read.table('https://reneshbedre.github.io/assets/posts/reg/plant_richness_data_mlr.txt', header=T)\n",
    "# fit model\n",
    "reg <- lm(ntv_rich ~ area + latitude + dist_mainland, data = df)\n",
    "summary(reg)\n",
    "# output"
   ]
  },
  {
   "cell_type": "code",
   "execution_count": 3,
   "metadata": {},
   "outputs": [
    {
     "data": {
      "text/html": [
       "0.141044925280085"
      ],
      "text/latex": [
       "0.141044925280085"
      ],
      "text/markdown": [
       "0.141044925280085"
      ],
      "text/plain": [
       "[1] 0.1410449"
      ]
     },
     "metadata": {},
     "output_type": "display_data"
    }
   ],
   "source": [
    "# get Root Mean Square Error (RMSE)\n",
    "rmse(df$ntv_rich, predict(reg))"
   ]
  },
  {
   "cell_type": "code",
   "execution_count": 4,
   "metadata": {},
   "outputs": [
    {
     "data": {
      "text/html": [
       "0.0198936709472648"
      ],
      "text/latex": [
       "0.0198936709472648"
      ],
      "text/markdown": [
       "0.0198936709472648"
      ],
      "text/plain": [
       "[1] 0.01989367"
      ]
     },
     "metadata": {},
     "output_type": "display_data"
    }
   ],
   "source": [
    "# Mean squared error (MSE)\n",
    "mean(residuals(reg)^2)"
   ]
  },
  {
   "cell_type": "code",
   "execution_count": 5,
   "metadata": {},
   "outputs": [
    {
     "data": {
      "text/html": [
       "0.122697443658503"
      ],
      "text/latex": [
       "0.122697443658503"
      ],
      "text/markdown": [
       "0.122697443658503"
      ],
      "text/plain": [
       "[1] 0.1226974"
      ]
     },
     "metadata": {},
     "output_type": "display_data"
    }
   ],
   "source": [
    "# Mean absolute error (MAE)\n",
    "mean(abs(df$ntv_rich-predict(reg)))\n"
   ]
  },
  {
   "cell_type": "code",
   "execution_count": 6,
   "metadata": {},
   "outputs": [
    {
     "data": {
      "text/html": [
       "0.0625215456615111"
      ],
      "text/latex": [
       "0.0625215456615111"
      ],
      "text/markdown": [
       "0.0625215456615111"
      ],
      "text/plain": [
       "[1] 0.06252155"
      ]
     },
     "metadata": {},
     "output_type": "display_data"
    }
   ],
   "source": [
    "# Mean absolute percent error (MAPE)\n",
    "mape(df$ntv_rich, predict(reg))"
   ]
  },
  {
   "cell_type": "code",
   "execution_count": 7,
   "metadata": {},
   "outputs": [
    {
     "data": {
      "text/html": [
       "<style>\n",
       ".dl-inline {width: auto; margin:0; padding: 0}\n",
       ".dl-inline>dt, .dl-inline>dd {float: none; width: auto; display: inline-block}\n",
       ".dl-inline>dt::after {content: \":\\0020\"; padding-right: .5ex}\n",
       ".dl-inline>dt:not(:first-of-type) {padding-left: .5ex}\n",
       "</style><dl class=dl-inline><dt>area</dt><dd>1.03519174966859</dd><dt>latitude</dt><dd>1.02356154802369</dd><dt>dist_mainland</dt><dd>1.02673782895447</dd></dl>\n"
      ],
      "text/latex": [
       "\\begin{description*}\n",
       "\\item[area] 1.03519174966859\n",
       "\\item[latitude] 1.02356154802369\n",
       "\\item[dist\\textbackslash{}\\_mainland] 1.02673782895447\n",
       "\\end{description*}\n"
      ],
      "text/markdown": [
       "area\n",
       ":   1.03519174966859latitude\n",
       ":   1.02356154802369dist_mainland\n",
       ":   1.02673782895447\n",
       "\n"
      ],
      "text/plain": [
       "         area      latitude dist_mainland \n",
       "     1.035192      1.023562      1.026738 "
      ]
     },
     "metadata": {},
     "output_type": "display_data"
    }
   ],
   "source": [
    "# get variance inflation factor (VIF)\n",
    "vif(reg)"
   ]
  },
  {
   "cell_type": "code",
   "execution_count": null,
   "metadata": {},
   "outputs": [],
   "source": []
  }
 ],
 "metadata": {
  "kernelspec": {
   "display_name": "R",
   "language": "R",
   "name": "ir"
  },
  "language_info": {
   "codemirror_mode": "r",
   "file_extension": ".r",
   "mimetype": "text/x-r-source",
   "name": "R",
   "pygments_lexer": "r",
   "version": "4.0.2"
  }
 },
 "nbformat": 4,
 "nbformat_minor": 2
}
